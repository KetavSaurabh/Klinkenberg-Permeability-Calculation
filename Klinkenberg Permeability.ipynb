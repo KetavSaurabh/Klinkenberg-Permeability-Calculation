{
 "cells": [
  {
   "cell_type": "markdown",
   "id": "d542c4ca-41fb-4942-a519-716ffedd8e69",
   "metadata": {},
   "source": [
    "# Klinkenberg Effect\n",
    "\n",
    "* The permeability of a core sample measured by flowing air is always greater than the permeability obtained when a liquid is the flowing fluid.\n",
    "* Klinkenberg postulated, on the basis of his laboratory experiments, that liquids had a zero velocity at the sand grain surface, while gases exhibited some finite velocity at the sand grain surface. This is what is known as \"Slippage\".\n",
    "* The magnitude of the Klinkenberg effect varies with the core permeability and the type of the gas used in the experiment."
   ]
  },
  {
   "cell_type": "markdown",
   "id": "716d628d-e873-4cd0-b059-5b2c216f291a",
   "metadata": {},
   "source": [
    "* k<sub>g</sub> = k<sub>L</sub> + c * (1/Pmean)\n",
    "\n",
    "   kg : measured gas permeability<br>\n",
    "   kL : absolute permeability<br>\n",
    "   Pmean : mean pressure (average of upstream flowing pressure and downstream flowing pressure)<br>\n",
    "   c : slope of line<br>\n",
    "\n",
    "* c = b * k<sub>L</sub>\n",
    "\n",
    "   b : constant depending upon the sizeof pore openings and is inversely proportional to the radius of capillaries\n",
    "\n",
    "#### According to Jones (1972) :\n",
    "* b = (6.9) * k<sub>L</sub><sup>-0.36</sup>\n",
    "\n",
    "\n",
    "* (6.9) * k<sub>L</sub><sup>0.64</sup> + P<sub>mean</sub> * k<sub>L</sub> - P<sub>mean</sub> * k<sub>g</sub> = 0\n",
    "\n",
    "* can be solved iteratively by <ins>Newton - Rhapson's Method</ins>"
   ]
  },
  {
   "cell_type": "markdown",
   "id": "30b122d4-d0f3-42fa-b257-ae5b05ba9e33",
   "metadata": {},
   "source": [
    "## Procedure Using Newton - Rhapson's Method\n",
    "\n",
    "* k<sub>i+1</sub> = k<sub></sub>i - f(k<sub>i</sub>)/f'(k<sub>i</sub>)\n",
    "\n",
    "* The first derivative of that equation is given by : f'(k<sub>i</sub>) = (4.416) * k<sub>i</sub><sup>-0.36</sup> + Pmean\n",
    "\n",
    "* The iterative procedure is repeated until convergence is achieved when f(k<sub>i</sub>) approaches zero or when no changes in the calculated values of k<sub>i</sub> are observed.\n",
    "\n",
    "* ### (Courtesy - Tarek Ahmed)"
   ]
  },
  {
   "cell_type": "markdown",
   "id": "7813d8d6-4f18-49d1-aae7-73bff18daa15",
   "metadata": {},
   "source": [
    "## Example\n",
    "\n",
    "The permeability of a core plug is measured by air. Only one measurement is made at a mean pressure of 2.152 psi. The air permeability is 46.6 md. Estimate the absolute permeability of the core sample. Compare the result with the actual absolute permeability of 23.66 md."
   ]
  },
  {
   "cell_type": "code",
   "execution_count": 3,
   "id": "241b0ec0-ef86-42e1-8562-039b99f0c0a7",
   "metadata": {},
   "outputs": [
    {
     "name": "stdin",
     "output_type": "stream",
     "text": [
      "Enter the mean pressure : \n",
      " 2.152\n",
      " Enter the gas permeability : \n",
      " 46.6\n",
      "Enter your guess of permeaability : \n",
      " 7\n"
     ]
    },
    {
     "name": "stdout",
     "output_type": "stream",
     "text": [
      "The calculated absolute permeability is : 22.849002279471133\n",
      "\n"
     ]
    }
   ],
   "source": [
    "# Solution\n",
    "\n",
    "def value (Pmean , kg , k):\n",
    "    val = (6.9) * k**0.64 + Pmean * k - Pmean * kg\n",
    "    return val\n",
    "\n",
    "def diffvalue (Pmean , k):\n",
    "    diffval = (4.416) * (k**(-0.36)) + Pmean\n",
    "    return diffval\n",
    "\n",
    "\n",
    "Pmean = float(input(\"Enter the mean pressure : \\n\"))\n",
    "kg = float(input(\" Enter the gas permeability : \\n\"))\n",
    "k = float(input(\"Enter your guess of permeaability : \\n\"))\n",
    "\n",
    "while (abs(value(Pmean , kg , k)) > 0.000001):\n",
    "    k = k - (value(Pmean , kg , k) / diffvalue(Pmean , k))\n",
    "\n",
    "print(f\"The calculated absolute permeability is : {k}\\n\")"
   ]
  },
  {
   "cell_type": "markdown",
   "id": "1bdd6eba-5eff-4804-a1cf-b3e6d76d8bca",
   "metadata": {},
   "source": [
    "* NOTE : The calculated value and actual value of absolute permeability are very close. Hence the method provides a good approximation for calculation of absolute permeabiltiy"
   ]
  }
 ],
 "metadata": {
  "kernelspec": {
   "display_name": "Python 3 (ipykernel)",
   "language": "python",
   "name": "python3"
  },
  "language_info": {
   "codemirror_mode": {
    "name": "ipython",
    "version": 3
   },
   "file_extension": ".py",
   "mimetype": "text/x-python",
   "name": "python",
   "nbconvert_exporter": "python",
   "pygments_lexer": "ipython3",
   "version": "3.12.2"
  }
 },
 "nbformat": 4,
 "nbformat_minor": 5
}
